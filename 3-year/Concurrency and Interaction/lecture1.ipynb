{
 "cells": [
  {
   "cell_type": "code",
   "execution_count": 11,
   "metadata": {},
   "outputs": [],
   "source": [
    "import pennylane as qml\n",
    "import numpy as np"
   ]
  },
  {
   "cell_type": "code",
   "execution_count": 12,
   "metadata": {},
   "outputs": [],
   "source": [
    "n_qubits = 1\n",
    "\n",
    "dev = qml.device(\"default.qubit\", wires=n_qubits) # sem shots=100000 dá valor analítico"
   ]
  },
  {
   "cell_type": "code",
   "execution_count": 13,
   "metadata": {},
   "outputs": [],
   "source": [
    "@qml.qnode(dev)\n",
    "def circuito():\n",
    "    \n",
    "    #qml.PauliX(wires=0) # Matriz X\n",
    "    #qml.PauliY(wires=0) # Matriz Y\n",
    "    #qml.PauliZ(wires=0) # Matriz Z\n",
    "    \n",
    "    qml.RY(2*np.arcsin(np.sqrt(0.2)), wires=0)\n",
    "    \n",
    "    #qml.Hadamard(wires=0) # Matriz de Hadamard\n",
    "    \n",
    "    return qml.probs(wires=0) # pode ser qml.probs(wires=0) ou qml.state()"
   ]
  },
  {
   "cell_type": "code",
   "execution_count": 14,
   "metadata": {},
   "outputs": [
    {
     "name": "stdout",
     "output_type": "stream",
     "text": [
      "[0.8 0.2]\n"
     ]
    }
   ],
   "source": [
    "print(circuito())"
   ]
  },
  {
   "cell_type": "code",
   "execution_count": 15,
   "metadata": {},
   "outputs": [
    {
     "data": {
      "text/plain": [
       "(<Figure size 400x200 with 1 Axes>, <Axes: >)"
      ]
     },
     "execution_count": 15,
     "metadata": {},
     "output_type": "execute_result"
    },
    {
     "data": {
      "image/png": "[encoded data removed]",
      "text/plain": [
       "<Figure size 400x200 with 1 Axes>"
      ]
     },
     "metadata": {},
     "output_type": "display_data"
    }
   ],
   "source": [
    "#qml.draw(circuito)()\n",
    "qml.draw_mpl(circuito)()"
   ]
  }
 ],
 "metadata": {
  "kernelspec": {
   "display_name": "ic",
   "language": "python",
   "name": "python3"
  },
  "language_info": {
   "codemirror_mode": {
    "name": "ipython",
    "version": 3
   },
   "file_extension": ".py",
   "mimetype": "text/x-python",
   "name": "python",
   "nbconvert_exporter": "python",
   "pygments_lexer": "ipython3",
   "version": "3.10.16"
  }
 },
 "nbformat": 4,
 "nbformat_minor": 2
}
