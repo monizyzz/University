{
 "cells": [
  {
   "cell_type": "markdown",
   "id": "bd10043a",
   "metadata": {},
   "source": [
    "##### Concurrency and interaction  2024/2025\n",
    "### Lecture 4 - Grover's algorithm"
   ]
  },
  {
   "cell_type": "markdown",
   "id": "advance-helmet",
   "metadata": {},
   "source": [
    "1. [Grover's Algorithm](#Grover) <p>\n",
    "   a.  [Unstructured search](#unstructured-search) <p>\n",
    "   b.  [Oracle](#oracle_intro) <p>\n",
    "   c.  [Amplitude Amplification](#amplitude_amp) <p>\n",
    "2. [Grover's algorithm with 2 qubits](#grover2)\n",
    "3. [Grover's algorithm with 3 qubits](#grover3)\n",
    "4. [Amplitude Amplification and multiple winner states](#multiple)\n",
    "5. [Removing the ancilla](#ancilla)"
   ]
  },
  {
   "cell_type": "markdown",
   "id": "aed9076f",
   "metadata": {},
   "source": [
    "## 1. Grover's algorithm <a id=\"grover\"></a>"
   ]
  },
  {
   "attachments": {},
   "cell_type": "markdown",
   "id": "5ba8a226",
   "metadata": {},
   "source": [
    "Grover's algorithm is one of the most powerful quantum algorithms. The algorithm is known for a quadratic speed up in searching for an element in an **unstructured database**. \n",
    "\n",
    "Grover's algorithm can be used in any problem that can be restated as an unstructured search problem:\n",
    "\n",
    "* Finding minimum/maximum/mean \n",
    "* Collision problem \n",
    "* Satisfiability \n",
    "* Optimization in general. "
   ]
  },
  {
   "cell_type": "markdown",
   "id": "3504b7fd",
   "metadata": {},
   "source": [
    "### a. Unstructured Search <a id=\"unstructured-search\"></a>\n",
    "\n",
    "Suppose you have an array of $N$ items. Consider that $w$ for winner is the element we want to find. \n",
    "\n",
    "![image1](images/list.png)\n",
    "\n",
    "Classic $\\quad \\Rightarrow \\quad \\mathcal{O}(N)$\n",
    "\n",
    "Quantum $\\quad \\Rightarrow \\quad \\mathcal{O}(\\sqrt{N})$"
   ]
  },
  {
   "cell_type": "markdown",
   "id": "0ef253e9",
   "metadata": {},
   "source": [
    "### b. Oracle\n",
    "\n",
    "Notice that we want to exploit the superposition principle, therefore, all entries in the above database will happen at the same time! Thus, for us, the database is composed by all computational basis states our qubits can be in.\n",
    "\n",
    "The oracle $U_w$ adds a negative phase to the solution states i.e. for any state $|x\\rangle$ in the computational basis corresponding to the winner:\n",
    "\n",
    "$$\n",
    "U_\\omega|x\\rangle = \\bigg\\{\n",
    "\\begin{aligned}\n",
    "\\phantom{-}|x\\rangle \\quad \\text{if} \\; x \\neq \\omega \\\\\n",
    "-|x\\rangle \\quad \\text{if} \\; x = \\omega \\\\\n",
    "\\end{aligned}\n",
    "$$\n",
    "\n",
    "we can use an ancilla to store the result of the function! \n",
    "\n",
    "\n",
    "Similar to Deutsch-Jozsa, we initialize the 'output' qubit in the state $|{-}\\rangle$, and the phase kickback effect do the rest.\n",
    "</p><p>  \n",
    "\n",
    "![image1](images/function.png)\n"
   ]
  },
  {
   "cell_type": "markdown",
   "id": "a3b448fe",
   "metadata": {},
   "source": [
    "Now, the goal is to find a routine that amplifies the probability of measuring the winner state! "
   ]
  },
  {
   "cell_type": "markdown",
   "id": "ff07fff4",
   "metadata": {},
   "source": [
    "### c. Amplitude Amplification <a id=\"amplitude_amp\"></a>\n",
    "\n",
    "The Diffusion operator $D$ is a reflection about the mean of the amplitudes. It is defined as:\n",
    "\n",
    "$$D = 2|DB \\rangle \\langle DB| - I$$\n",
    "\n",
    "where |DB\\rangle is the database superposition quantum state. D amplifies the amplitude of the winner state.\n",
    "\n",
    "Full Grover's circuit is:\n",
    "![image5](images/full_circuit.png)"
   ]
  },
  {
   "cell_type": "markdown",
   "id": "32b60ee3",
   "metadata": {},
   "source": [
    "## 2. Grover's algorithm with 2 qubits <a id=\"grover2\"></a>"
   ]
  },
  {
   "cell_type": "markdown",
   "id": "ffecbba2",
   "metadata": {},
   "source": [
    "Let's suppose we want to find the state $|11\\rangle$.\n",
    "Build the Grover's algorithm and check the probabilities "
   ]
  },
  {
   "cell_type": "code",
   "execution_count": 1,
   "id": "e875b643",
   "metadata": {},
   "outputs": [],
   "source": [
    "import pennylane as qml\n",
    "from pennylane import numpy as np\n",
    "\n",
    "dev = qml.device(\"default.qubit\", wires=3)\n",
    "@qml.qnode(dev) # bind\n",
    "\n",
    "def grover(iterations):\n",
    "\n",
    "    #create registers \n",
    "    db = [0,1]\n",
    "    ancilla = [2]\n",
    "\n",
    "    #superposition\n",
    "    for i in db: \n",
    "        qml.Hadamard(wires=i)\n",
    "    #qml.broadcast(qml.Hadamard, wires=db, pattern=\"single\")\n",
    "    \n",
    "    \n",
    "    qml.PauliX(wires=ancilla)\n",
    "    qml.Hadamard(wires=ancilla)\n",
    "    \n",
    "    for it in range(iterations):\n",
    "    \n",
    "        #oracle\n",
    "        qml.Toffoli(wires=[db[0],db[1],ancilla[0]])\n",
    "        \n",
    "        \n",
    "        #or using the MultiControlledX gate with control state\n",
    "        #qml.MultiControlledX(control_wires=input_registers, wires=ancilla_register, control_values=id)\n",
    "\n",
    "        #diffusion\n",
    "        # use  qml.ControlledQubitUnitary(qml.PauliZ(input_registers[-1]), control_wires=input_registers[:-1]) for a general implementation\n",
    "\n",
    "        for i in db:\n",
    "            qml.Hadamard(wires=i)\n",
    "            \n",
    "            qml.PauliX(wires=i)\n",
    "            \n",
    "        qml.CZ(wires=[db[0],db[1]])\n",
    "            \n",
    "        for i in db:\n",
    "            qml.PauliX(wires=i)\n",
    "            \n",
    "            qml.Hadamard(wires=i)\n",
    "    \n",
    "    #measurement\n",
    "    return qml.probs(wires=db)\n"
   ]
  },
  {
   "cell_type": "code",
   "execution_count": 2,
   "id": "c4c505a5",
   "metadata": {},
   "outputs": [
    {
     "data": {
      "text/plain": [
       "(<Figure size 1700x400 with 1 Axes>, <Axes: >)"
      ]
     },
     "execution_count": 2,
     "metadata": {},
     "output_type": "execute_result"
    },
    {
     "data": {
      "image/png": "[encoded data removed]",
      "text/plain": [
       "<Figure size 1700x400 with 1 Axes>"
      ]
     },
     "metadata": {},
     "output_type": "display_data"
    }
   ],
   "source": [
    "#visualize the circuit\n",
    "\n",
    "qml.draw_mpl(grover)(iterations=2)"
   ]
  },
  {
   "cell_type": "code",
   "execution_count": 3,
   "id": "724cc469",
   "metadata": {},
   "outputs": [
    {
     "name": "stdout",
     "output_type": "stream",
     "text": [
      "[0.25 0.25 0.25 0.25]\n"
     ]
    },
    {
     "data": {
      "text/plain": [
       "Text(0.5, 1.0, 'Probability Distribution')"
      ]
     },
     "execution_count": 3,
     "metadata": {},
     "output_type": "execute_result"
    },
    {
     "data": {
      "image/png": "[encoded data removed]",
      "text/plain": [
       "<Figure size 640x480 with 1 Axes>"
      ]
     },
     "metadata": {},
     "output_type": "display_data"
    }
   ],
   "source": [
    "#Run the algorithm\n",
    "n_qubits = 2\n",
    "\n",
    "probs = grover(iterations=2)\n",
    "print(probs)\n",
    "\n",
    "#Visualize the probability histogram\n",
    "import matplotlib.pyplot as plt\n",
    "plt.bar([np.binary_repr(i, width=n_qubits) for i in range(2**n_qubits)], probs)\n",
    "plt.xlabel(\"Basis State\")\n",
    "plt.ylabel(\"Probability\")\n",
    "plt.yticks(probs)\n",
    "plt.title(\"Probability Distribution\")\n"
   ]
  },
  {
   "attachments": {},
   "cell_type": "markdown",
   "id": "510e8c57",
   "metadata": {},
   "source": [
    "## 3. Grover's algorithm with 3 qubits <a id=\"grover3\"></a>  \n"
   ]
  },
  {
   "attachments": {},
   "cell_type": "markdown",
   "id": "2804e264",
   "metadata": {},
   "source": [
    "Let's suppose we want to find the state $|011\\rangle$. Run Grover's algorithm and check the probabilities."
   ]
  },
  {
   "cell_type": "code",
   "execution_count": 4,
   "id": "f3422041",
   "metadata": {},
   "outputs": [],
   "source": [
    "#Run the algorithm and visualize the probability histogram"
   ]
  },
  {
   "cell_type": "markdown",
   "id": "057d4ff3",
   "metadata": {},
   "source": [
    "## 4. Amplitude Amplification and multiple winner states <a id=\"multiple\"></a>"
   ]
  },
  {
   "cell_type": "markdown",
   "id": "bf79e486",
   "metadata": {},
   "source": [
    "1) Let's suppose we want to find one of the states $\\{|000\\rangle , |001\\rangle \\}$. \n",
    "2) Let's suppose we want to find one of the states $\\{|0000\\rangle , |0010\\rangle , |0100\\rangle , |1000\\rangle \\}$.\n",
    "\n",
    "What do 1) and 2) have in common?"
   ]
  },
  {
   "cell_type": "code",
   "execution_count": null,
   "id": "71670722",
   "metadata": {},
   "outputs": [],
   "source": []
  },
  {
   "cell_type": "markdown",
   "id": "f569908b",
   "metadata": {},
   "source": [
    "## 5. Removing the ancilla <a id=\"ancilla\"></a>\n",
    "\n",
    "Rewrite the Grover's algorithm without the ancilla qubit - find one of the states $\\{|0000\\rangle , |0010\\rangle , |0100\\rangle , |1000\\rangle \\}$."
   ]
  },
  {
   "cell_type": "markdown",
   "id": "bf0f00fe",
   "metadata": {},
   "source": []
  },
  {
   "cell_type": "code",
   "execution_count": null,
   "id": "78f25c2d",
   "metadata": {},
   "outputs": [],
   "source": []
  }
 ],
 "metadata": {
  "kernelspec": {
   "display_name": "jaxqrl",
   "language": "python",
   "name": "python3"
  },
  "language_info": {
   "codemirror_mode": {
    "name": "ipython",
    "version": 3
   },
   "file_extension": ".py",
   "mimetype": "text/x-python",
   "name": "python",
   "nbconvert_exporter": "python",
   "pygments_lexer": "ipython3",
   "version": "3.10.16"
  }
 },
 "nbformat": 4,
 "nbformat_minor": 5
}
