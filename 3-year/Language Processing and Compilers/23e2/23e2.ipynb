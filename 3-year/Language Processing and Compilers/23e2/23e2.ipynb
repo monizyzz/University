{
 "cells": [
  {
   "cell_type": "markdown",
   "metadata": {},
   "source": [
    "# Questão 2"
   ]
  },
  {
   "cell_type": "markdown",
   "metadata": {},
   "source": [
    "## a)"
   ]
  },
  {
   "cell_type": "markdown",
   "metadata": {},
   "source": [
    "### a1)"
   ]
  },
  {
   "cell_type": "code",
   "execution_count": 4,
   "metadata": {},
   "outputs": [
    {
     "name": "stdout",
     "output_type": "stream",
     "text": [
      "['OLA123ola', 'tuOla', '--ola']\n",
      "3\n"
     ]
    }
   ],
   "source": [
    "import re\n",
    "\n",
    "frase = \"Ola aaa OLA123ola e tuOla--ola.\"\n",
    "\n",
    "res = re.findall( r'[^ ]+?(?i:ola)', frase ) # lazy\n",
    "print(res)\n",
    "print( len(res) )"
   ]
  },
  {
   "cell_type": "markdown",
   "metadata": {},
   "source": [
    "### a2)"
   ]
  },
  {
   "cell_type": "code",
   "execution_count": 5,
   "metadata": {},
   "outputs": [
    {
     "ename": "TypeError",
     "evalue": "object of type 're.Match' has no len()",
     "output_type": "error",
     "traceback": [
      "\u001b[0;31m---------------------------------------------------------------------------\u001b[0m",
      "\u001b[0;31mTypeError\u001b[0m                                 Traceback (most recent call last)",
      "Cell \u001b[0;32mIn[5], line 2\u001b[0m\n\u001b[1;32m      1\u001b[0m res1 \u001b[38;5;241m=\u001b[39m re\u001b[38;5;241m.\u001b[39msearch( \u001b[38;5;124mr\u001b[39m\u001b[38;5;124m'\u001b[39m\u001b[38;5;124m[^ ]+?(?i:ola)\u001b[39m\u001b[38;5;124m'\u001b[39m, frase )\n\u001b[0;32m----> 2\u001b[0m \u001b[38;5;28mprint\u001b[39m( \u001b[38;5;28mlen\u001b[39m(res1) )\n",
      "\u001b[0;31mTypeError\u001b[0m: object of type 're.Match' has no len()"
     ]
    }
   ],
   "source": [
    "res1 = re.search( r'[^ ]+?(?i:ola)', frase )\n",
    "print( len(res1) )"
   ]
  },
  {
   "cell_type": "markdown",
   "metadata": {},
   "source": [
    "## b)\n",
    "### b1)"
   ]
  },
  {
   "cell_type": "code",
   "execution_count": 6,
   "metadata": {},
   "outputs": [
    {
     "name": "stdout",
     "output_type": "stream",
     "text": [
      "HELPME\n"
     ]
    }
   ],
   "source": [
    "import re\n",
    "codigoSecreto = \"4T4UG5H281E60X45L4MQ1T9P25A089M66L1E801D\"\n",
    "mensagem = re.findall(f'[13579](.)[2468]', codigoSecreto)\n",
    "print(\"\".join(mensagem))"
   ]
  },
  {
   "cell_type": "markdown",
   "metadata": {},
   "source": [
    "### b2)"
   ]
  },
  {
   "cell_type": "code",
   "execution_count": 7,
   "metadata": {},
   "outputs": [
    {
     "name": "stdout",
     "output_type": "stream",
     "text": [
      "PLC\n"
     ]
    }
   ],
   "source": [
    "codigoSecreto1 = \"1P23L45C6\"\n",
    "mensagem = re.findall(f'[13579](.)[2468]', codigoSecreto1)\n",
    "print(\"\".join(mensagem))"
   ]
  },
  {
   "cell_type": "markdown",
   "metadata": {},
   "source": [
    "## c)"
   ]
  },
  {
   "cell_type": "code",
   "execution_count": 8,
   "metadata": {},
   "outputs": [
    {
     "name": "stdout",
     "output_type": "stream",
     "text": [
      "[a]\n"
     ]
    }
   ],
   "source": [
    "import re\n",
    "text = \"LINHA COM ((1) marca) ([de]) SUCESSO[(13)] [a] ou (2)\"\n",
    "\n",
    "s = re.search(r'\\[([aeiou]+|[1-9]+)\\]', text)\n",
    "if ( s ):\n",
    "    print(s.group())\n",
    "else:\n",
    "    print(\"Falhou\")"
   ]
  }
 ],
 "metadata": {
  "kernelspec": {
   "display_name": "base",
   "language": "python",
   "name": "python3"
  },
  "language_info": {
   "codemirror_mode": {
    "name": "ipython",
    "version": 3
   },
   "file_extension": ".py",
   "mimetype": "text/x-python",
   "name": "python",
   "nbconvert_exporter": "python",
   "pygments_lexer": "ipython3",
   "version": "3.12.4"
  }
 },
 "nbformat": 4,
 "nbformat_minor": 2
}
