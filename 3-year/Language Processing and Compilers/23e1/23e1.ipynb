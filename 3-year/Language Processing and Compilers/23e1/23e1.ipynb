{
 "cells": [
  {
   "cell_type": "markdown",
   "metadata": {},
   "source": [
    "# Questão 2"
   ]
  },
  {
   "cell_type": "markdown",
   "metadata": {},
   "source": [
    "## a)"
   ]
  },
  {
   "cell_type": "code",
   "execution_count": 5,
   "metadata": {},
   "outputs": [
    {
     "name": "stdout",
     "output_type": "stream",
     "text": [
      "Aqui vai \\emph{um} bom \\textbf{exemplo}\n"
     ]
    }
   ],
   "source": [
    "import re\n",
    "\n",
    "def converter_para_latex(texto):\n",
    "    texto = re.sub(r'\\*\\*(.*)\\*\\*', r'\\\\textbf{\\1}', texto)  # Boldface\n",
    "    texto = re.sub(r'\\*(.*)\\*', r'\\\\emph{\\1}', texto)       # Italics\n",
    "    return texto\n",
    "\n",
    "# Exemplo:\n",
    "texto = \"Aqui vai *um* bom **exemplo**\"\n",
    "print(converter_para_latex(texto))\n"
   ]
  },
  {
   "cell_type": "code",
   "execution_count": 8,
   "metadata": {},
   "outputs": [
    {
     "name": "stdout",
     "output_type": "stream",
     "text": [
      "3,45  é a primeira de  3  ocorrências\n"
     ]
    }
   ],
   "source": [
    "import re\n",
    "linha = input()\n",
    "linha1 = \"3 hh-+. 3,45.ola.102.34 rrr.1.3rnhh .89-98. ghhh .\"\n",
    "linha2 = \"1,44 hh-+. 3,45.ola. Jaime\"\n",
    "y = re.findall((r'[0-9]+.[0-9]{2}'), linha1)\n",
    "if(len(y)>0):\n",
    "    print(y[0],\" é a primeira de \", len(y), \" ocorrências\")\n",
    "else:\n",
    "    pass\n"
   ]
  }
 ],
 "metadata": {
  "kernelspec": {
   "display_name": "Python 3",
   "language": "python",
   "name": "python3"
  },
  "language_info": {
   "codemirror_mode": {
    "name": "ipython",
    "version": 3
   },
   "file_extension": ".py",
   "mimetype": "text/x-python",
   "name": "python",
   "nbconvert_exporter": "python",
   "pygments_lexer": "ipython3",
   "version": "3.12.4"
  }
 },
 "nbformat": 4,
 "nbformat_minor": 2
}
